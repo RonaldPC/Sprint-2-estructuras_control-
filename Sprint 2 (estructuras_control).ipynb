{
 "cells": [
  {
   "cell_type": "markdown",
   "id": "9a611afa",
   "metadata": {},
   "source": [
    "# 2ª PARTE"
   ]
  },
  {
   "cell_type": "code",
   "execution_count": null,
   "id": "bd11aab2",
   "metadata": {},
   "outputs": [],
   "source": []
  },
  {
   "cell_type": "markdown",
   "id": "1a587c1f",
   "metadata": {},
   "source": [
    "## Ejercicio 1"
   ]
  },
  {
   "cell_type": "markdown",
   "id": "8e9e3b4e",
   "metadata": {},
   "source": [
    "### Programa que, con la nota obtenida, clasifique el resultado como Suspenso (menor que 5), Aprobado (igual o mayor a 5 y menor a 7), Notable (igual o mayor a 7 y menor a 9), Excelente (igual o mayor a 9).\n"
   ]
  },
  {
   "cell_type": "code",
   "execution_count": 2,
   "id": "3cd7bf2a",
   "metadata": {},
   "outputs": [
    {
     "name": "stdout",
     "output_type": "stream",
     "text": [
      "Nota obtenida: 4\n",
      "El alumno ha conseguido un: Suspenso\n"
     ]
    }
   ],
   "source": [
    "def calificacion(nota):\n",
    "\n",
    "    if nota>=9:\n",
    "        return 'Excelente'\n",
    "\n",
    "    elif nota>=7:\n",
    "        return 'Notable'\n",
    "    \n",
    "    elif nota>=5 and nota<7:\n",
    "        \n",
    "        return 'Aprobado'\n",
    "    \n",
    "    else:\n",
    "        return 'Suspenso'\n",
    "\n",
    "nota=float(input('Nota obtenida: '))\n",
    "\n",
    "print('El alumno ha conseguido un:', calificacion(nota))"
   ]
  },
  {
   "cell_type": "code",
   "execution_count": null,
   "id": "49d07af0",
   "metadata": {},
   "outputs": [],
   "source": []
  },
  {
   "cell_type": "markdown",
   "id": "9d25e1d5",
   "metadata": {},
   "source": [
    "## Ejercicio 2"
   ]
  },
  {
   "cell_type": "markdown",
   "id": "b69c2c86",
   "metadata": {},
   "source": [
    "### Programa que solicite dos números e informe si el primero es mayor, el segundo es mayor o bien ambos son iguales"
   ]
  },
  {
   "cell_type": "code",
   "execution_count": 3,
   "id": "65910687",
   "metadata": {},
   "outputs": [
    {
     "name": "stdout",
     "output_type": "stream",
     "text": [
      "Ingrese número 1: 4\n",
      "Ingrese número 2: 6\n",
      "El número 6 es mayor que 4\n"
     ]
    }
   ],
   "source": [
    "n1=int(input(\"Ingrese número 1: \"))\n",
    "n2=int(input(\"Ingrese número 2: \"))\n",
    "\n",
    "if n1==n2:\n",
    "    print(\"Los dos números son iguales\")\n",
    "elif n1>n2:\n",
    "    print(f\"El número {n1} es mayor que {n2}\")\n",
    "else:\n",
    "    print(f\"El número {n2} es mayor que {n1}\")\n",
    "    \n"
   ]
  },
  {
   "cell_type": "code",
   "execution_count": null,
   "id": "f3ef2a33",
   "metadata": {},
   "outputs": [],
   "source": []
  },
  {
   "cell_type": "markdown",
   "id": "2fa26a4b",
   "metadata": {},
   "source": [
    "## Ejercicio 3"
   ]
  },
  {
   "cell_type": "markdown",
   "id": "0e40538f",
   "metadata": {},
   "source": [
    "### Programa que pida un nombre propio y un número. Si el número es 0 (o menor), se mostrará un mensaje de error, de lo contrario se mostrará el nombre tantas veces como indique el número."
   ]
  },
  {
   "cell_type": "code",
   "execution_count": 4,
   "id": "06a8f348",
   "metadata": {},
   "outputs": [
    {
     "name": "stdout",
     "output_type": "stream",
     "text": [
      "Indique su nombre: Veremunda\n",
      "Indique repeticiones requeridas de su nombre: 4\n",
      "Ahora su nombre se ve así:  Veremunda Veremunda Veremunda Veremunda \n"
     ]
    }
   ],
   "source": [
    "nombr=input(\"Indique su nombre: \") + ' '\n",
    "multip=int(input(\"Indique repeticiones requeridas de su nombre: \"))\n",
    "repeat_nombre=nombr * multip\n",
    "\n",
    "\n",
    "if multip > 0:\n",
    "    print(\"Ahora su nombre se ve así: \", repeat_nombre)\n",
    "else:\n",
    "    print('¡Error! Por favor, introduzca otro número')\n",
    "    "
   ]
  },
  {
   "cell_type": "code",
   "execution_count": null,
   "id": "c93b29c9",
   "metadata": {},
   "outputs": [],
   "source": []
  },
  {
   "cell_type": "markdown",
   "id": "ac2badb1",
   "metadata": {},
   "source": [
    "## Ejercicio 4"
   ]
  },
  {
   "cell_type": "markdown",
   "id": "cc996796",
   "metadata": {},
   "source": [
    "### Programa que diga si una lista es simétrica o no. Si lo es, que diga los elementos que tiene."
   ]
  },
  {
   "cell_type": "code",
   "execution_count": 5,
   "id": "845faf0b",
   "metadata": {},
   "outputs": [
    {
     "name": "stdout",
     "output_type": "stream",
     "text": [
      "La lista es simétrica y sus elementos son: [5, 3, 2, 3, 5]\n"
     ]
    }
   ],
   "source": [
    "# Ejemplo con una lista simétrica\n",
    "\n",
    "def simetr(x):\n",
    "    if x==list(reversed(x)):\n",
    "        print(f'La lista es simétrica y sus elementos son: {x}')\n",
    "    else:\n",
    "        print('La lista no es simétrica')\n",
    "\n",
    "\n",
    "lista_analis=[5,3,2,3,5]\n",
    "simetr(lista_analis)\n"
   ]
  },
  {
   "cell_type": "code",
   "execution_count": 6,
   "id": "bcaf2286",
   "metadata": {},
   "outputs": [
    {
     "name": "stdout",
     "output_type": "stream",
     "text": [
      "La lista no es simétrica\n"
     ]
    }
   ],
   "source": [
    "# Ejemplo con una lista no simétrica\n",
    "\n",
    "def simetr(x):\n",
    "    if x==list(reversed(x)):\n",
    "        print(f'La lista es simétrica y sus elementos son: {x}')\n",
    "    else:\n",
    "        print('La lista no es simétrica')\n",
    "\n",
    "\n",
    "lista_analis=[5,4,2,3,5]\n",
    "simetr(lista_analis)\n"
   ]
  },
  {
   "cell_type": "code",
   "execution_count": null,
   "id": "5012d3ac",
   "metadata": {},
   "outputs": [],
   "source": []
  },
  {
   "cell_type": "markdown",
   "id": "9568ab86",
   "metadata": {},
   "source": [
    "## Ejercicio 5"
   ]
  },
  {
   "cell_type": "markdown",
   "id": "b4a059d3",
   "metadata": {},
   "source": [
    "### Números que coinciden con su posición de una lista determinada"
   ]
  },
  {
   "cell_type": "code",
   "execution_count": 7,
   "id": "45da4826",
   "metadata": {},
   "outputs": [
    {
     "name": "stdout",
     "output_type": "stream",
     "text": [
      "Los siguientes números coinciden con su posición en la lista: [2, 5, 6, 8, 9, 12]\n"
     ]
    }
   ],
   "source": [
    "ejemplo_lista=[8,9,2, 7,5,5, 6,9,8,9,6,4,12,3,7,8,9]\n",
    "\n",
    "coinci_num= [orden for num, orden in enumerate(ejemplo_lista) if num == orden]\n",
    " \n",
    "print('Los siguientes números coinciden con su posición en la lista:', coinci_num)\n"
   ]
  },
  {
   "cell_type": "code",
   "execution_count": null,
   "id": "6860ea98",
   "metadata": {},
   "outputs": [],
   "source": []
  }
 ],
 "metadata": {
  "kernelspec": {
   "display_name": "Python 3 (ipykernel)",
   "language": "python",
   "name": "python3"
  },
  "language_info": {
   "codemirror_mode": {
    "name": "ipython",
    "version": 3
   },
   "file_extension": ".py",
   "mimetype": "text/x-python",
   "name": "python",
   "nbconvert_exporter": "python",
   "pygments_lexer": "ipython3",
   "version": "3.10.9"
  }
 },
 "nbformat": 4,
 "nbformat_minor": 5
}
