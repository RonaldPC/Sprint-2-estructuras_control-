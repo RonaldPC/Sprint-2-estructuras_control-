{
 "cells": [
  {
   "cell_type": "markdown",
   "id": "9a611afa",
   "metadata": {},
   "source": [
    "# 2ª PARTE"
   ]
  },
  {
   "cell_type": "code",
   "execution_count": null,
   "id": "bd11aab2",
   "metadata": {},
   "outputs": [],
   "source": []
  },
  {
   "cell_type": "markdown",
   "id": "1a587c1f",
   "metadata": {},
   "source": [
    "## Ejercicio 1"
   ]
  },
  {
   "cell_type": "code",
   "execution_count": null,
   "id": "3cd7bf2a",
   "metadata": {},
   "outputs": [],
   "source": [
    "def calificacion(valor):\n",
    "\n",
    "    if valor>=9:\n",
    "        return 'Excelente'\n",
    "\n",
    "    elif valor>=7:\n",
    "        return 'Notable'\n",
    "    \n",
    "    elif valor>=5 and valor<7:\n",
    "        return 'Aprobado'\n",
    "    \n",
    "    else:\n",
    "        return 'Suspenso'\n",
    "\n",
    "n=float(input('Nota obtenida: '))\n",
    "\n",
    "print('El alumno ha conseguido un:', calificacion(n))"
   ]
  },
  {
   "cell_type": "code",
   "execution_count": null,
   "id": "49d07af0",
   "metadata": {},
   "outputs": [],
   "source": []
  },
  {
   "cell_type": "markdown",
   "id": "9d25e1d5",
   "metadata": {},
   "source": [
    "## Ejercicio 2"
   ]
  },
  {
   "cell_type": "code",
   "execution_count": null,
   "id": "65910687",
   "metadata": {},
   "outputs": [],
   "source": [
    "n1=int(input(\"Ingrese número 1: \"))\n",
    "n2=int(input(\"Ingrese número 2: \"))\n",
    "if n1==n2:\n",
    "    print(\"Los dos números son iguales\")\n",
    "elif n1>n2:\n",
    "    print(f\"El número {n1} es mayor que {n2}\")\n",
    "else:\n",
    "    print(f\"El número {n2} es mayor que {n1}\")"
   ]
  },
  {
   "cell_type": "code",
   "execution_count": null,
   "id": "f3ef2a33",
   "metadata": {},
   "outputs": [],
   "source": []
  },
  {
   "cell_type": "markdown",
   "id": "2fa26a4b",
   "metadata": {},
   "source": [
    "## Ejercicio 3"
   ]
  },
  {
   "cell_type": "code",
   "execution_count": null,
   "id": "06a8f348",
   "metadata": {},
   "outputs": [],
   "source": [
    "str=input(\"Indique su nombre: \")\n",
    "multip=int(input(\"Indique repeticiones requeridas de su nombre: \"))\n",
    "repeat_nombre=str*multip\n",
    "\n",
    "split_string=repeat_nombre.split() \n",
    "\n",
    "resultado=(split_string)\n",
    "\n",
    "print(\"Ahora su nombre se ve así. \", resultado)\n",
    "while resultado==0: \n",
    "    print('error')\n",
    "    "
   ]
  },
  {
   "cell_type": "code",
   "execution_count": null,
   "id": "c93b29c9",
   "metadata": {},
   "outputs": [],
   "source": []
  },
  {
   "cell_type": "markdown",
   "id": "ac2badb1",
   "metadata": {},
   "source": [
    "## Ejercicio 4"
   ]
  },
  {
   "cell_type": "code",
   "execution_count": null,
   "id": "ce18d41a",
   "metadata": {},
   "outputs": [],
   "source": [
    "\n",
    "def simetr(p):\n",
    "    n = len(p)\n",
    "    if p == []:\n",
    "        return True\n",
    "\n",
    "    i = 0\n",
    "    if n != len(p[0]):\n",
    "        return False\n",
    "\n",
    "    while i <= n-1:\n",
    "        r = 0\n",
    "        while r <= n-1:\n",
    "            if p[i][r] != p[r][i]:\n",
    "                return False\n",
    "            r = r + 1\n",
    "        i = i + 1\n",
    "        return True"
   ]
  },
  {
   "cell_type": "code",
   "execution_count": null,
   "id": "d8c05c48",
   "metadata": {},
   "outputs": [],
   "source": []
  },
  {
   "cell_type": "markdown",
   "id": "9568ab86",
   "metadata": {},
   "source": [
    "## Ejercicio 5"
   ]
  },
  {
   "cell_type": "code",
   "execution_count": null,
   "id": "45da4826",
   "metadata": {},
   "outputs": [],
   "source": [
    "ejemplo_lista=[8,9,2, 7,5,5, 6,9,8,9,6,4,12,3,7,8,9]\n",
    "\n",
    "coinci_num= [orden for num, orden in enumerate(ejemplo_lista) if num == orden]\n",
    " \n",
    "print(coinci_num)"
   ]
  },
  {
   "cell_type": "code",
   "execution_count": null,
   "id": "6860ea98",
   "metadata": {},
   "outputs": [],
   "source": []
  }
 ],
 "metadata": {
  "kernelspec": {
   "display_name": "Python 3 (ipykernel)",
   "language": "python",
   "name": "python3"
  },
  "language_info": {
   "codemirror_mode": {
    "name": "ipython",
    "version": 3
   },
   "file_extension": ".py",
   "mimetype": "text/x-python",
   "name": "python",
   "nbconvert_exporter": "python",
   "pygments_lexer": "ipython3",
   "version": "3.10.9"
  }
 },
 "nbformat": 4,
 "nbformat_minor": 5
}
